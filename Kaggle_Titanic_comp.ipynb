{
 "cells": [
  {
   "cell_type": "markdown",
   "metadata": {
    "papermill": {
     "duration": 0.023172,
     "end_time": "2021-02-14T20:13:54.807943",
     "exception": false,
     "start_time": "2021-02-14T20:13:54.784771",
     "status": "completed"
    },
    "tags": []
   },
   "source": [
    "# Titanic - Machine Learning from Disaster\n",
    "\n",
    "1. General inspection.\n",
    "2. Visualizations.\n",
    "3. Missing data.\n",
    "4. Categorical features.\n",
    "5. Creating/modifying features.\n",
    "6. Models and predictions.\n",
    "7. Submit results."
   ]
  },
  {
   "cell_type": "code",
   "execution_count": 1,
   "metadata": {
    "execution": {
     "iopub.execute_input": "2021-02-14T20:13:54.858423Z",
     "iopub.status.busy": "2021-02-14T20:13:54.857336Z",
     "iopub.status.idle": "2021-02-14T20:13:56.615692Z",
     "shell.execute_reply": "2021-02-14T20:13:56.614895Z"
    },
    "papermill": {
     "duration": 1.783616,
     "end_time": "2021-02-14T20:13:56.615818",
     "exception": false,
     "start_time": "2021-02-14T20:13:54.832202",
     "status": "completed"
    },
    "tags": []
   },
   "outputs": [],
   "source": [
    "import os\n",
    "\n",
    "import numpy as np\n",
    "import pandas as pd\n",
    "import seaborn as sns\n",
    "import matplotlib.pyplot as plt\n",
    "from sklearn import preprocessing\n",
    "from sklearn.impute import SimpleImputer\n",
    "from sklearn.ensemble import RandomForestClassifier\n",
    "from sklearn.model_selection import cross_val_score"
   ]
  },
  {
   "cell_type": "code",
   "execution_count": 2,
   "metadata": {
    "execution": {
     "iopub.execute_input": "2021-02-14T20:13:56.668473Z",
     "iopub.status.busy": "2021-02-14T20:13:56.667709Z",
     "iopub.status.idle": "2021-02-14T20:13:56.670929Z",
     "shell.execute_reply": "2021-02-14T20:13:56.670190Z"
    },
    "papermill": {
     "duration": 0.032575,
     "end_time": "2021-02-14T20:13:56.671083",
     "exception": false,
     "start_time": "2021-02-14T20:13:56.638508",
     "status": "completed"
    },
    "tags": []
   },
   "outputs": [],
   "source": [
    "%matplotlib inline\n",
    "sns.set_style('darkgrid')"
   ]
  },
  {
   "cell_type": "code",
   "execution_count": 3,
   "metadata": {
    "execution": {
     "iopub.execute_input": "2021-02-14T20:13:56.720552Z",
     "iopub.status.busy": "2021-02-14T20:13:56.719867Z",
     "iopub.status.idle": "2021-02-14T20:13:56.735313Z",
     "shell.execute_reply": "2021-02-14T20:13:56.735854Z"
    },
    "papermill": {
     "duration": 0.042789,
     "end_time": "2021-02-14T20:13:56.736022",
     "exception": false,
     "start_time": "2021-02-14T20:13:56.693233",
     "status": "completed"
    },
    "tags": []
   },
   "outputs": [
    {
     "name": "stdout",
     "output_type": "stream",
     "text": [
      "['train.csv', 'test.csv', 'gender_submission.csv']\n"
     ]
    }
   ],
   "source": [
    "data_path = '../input/titanic'\n",
    "\n",
    "print(os.listdir(data_path))"
   ]
  },
  {
   "cell_type": "markdown",
   "metadata": {
    "papermill": {
     "duration": 0.022129,
     "end_time": "2021-02-14T20:13:56.781825",
     "exception": false,
     "start_time": "2021-02-14T20:13:56.759696",
     "status": "completed"
    },
    "tags": []
   },
   "source": [
    "\n",
    "- Train and Test sets.\n",
    "- gender_submission.csv is an example of a submission file for the competition."
   ]
  },
  {
   "cell_type": "code",
   "execution_count": 4,
   "metadata": {
    "execution": {
     "iopub.execute_input": "2021-02-14T20:13:56.833667Z",
     "iopub.status.busy": "2021-02-14T20:13:56.832593Z",
     "iopub.status.idle": "2021-02-14T20:13:56.879213Z",
     "shell.execute_reply": "2021-02-14T20:13:56.879798Z"
    },
    "papermill": {
     "duration": 0.075111,
     "end_time": "2021-02-14T20:13:56.880005",
     "exception": false,
     "start_time": "2021-02-14T20:13:56.804894",
     "status": "completed"
    },
    "tags": []
   },
   "outputs": [],
   "source": [
    "train = pd.read_csv(os.path.join(data_path, 'train.csv'), index_col='PassengerId')\n",
    "test  = pd.read_csv(os.path.join(data_path, 'test.csv'), index_col='PassengerId')"
   ]
  },
  {
   "cell_type": "code",
   "execution_count": 5,
   "metadata": {
    "execution": {
     "iopub.execute_input": "2021-02-14T20:13:56.931002Z",
     "iopub.status.busy": "2021-02-14T20:13:56.930272Z",
     "iopub.status.idle": "2021-02-14T20:13:56.934934Z",
     "shell.execute_reply": "2021-02-14T20:13:56.935608Z"
    },
    "papermill": {
     "duration": 0.031293,
     "end_time": "2021-02-14T20:13:56.935765",
     "exception": false,
     "start_time": "2021-02-14T20:13:56.904472",
     "status": "completed"
    },
    "tags": []
   },
   "outputs": [],
   "source": [
    "# Create a copy of the original datasets\n",
    "train_original = train.copy()\n",
    "test_original  = test.copy()"
   ]
  },
  {
   "cell_type": "markdown",
   "metadata": {
    "papermill": {
     "duration": 0.022834,
     "end_time": "2021-02-14T20:13:56.983707",
     "exception": false,
     "start_time": "2021-02-14T20:13:56.960873",
     "status": "completed"
    },
    "tags": []
   },
   "source": [
    "## 1. General inspection"
   ]
  },
  {
   "cell_type": "markdown",
   "metadata": {
    "papermill": {
     "duration": 0.02582,
     "end_time": "2021-02-14T20:13:57.033548",
     "exception": false,
     "start_time": "2021-02-14T20:13:57.007728",
     "status": "completed"
    },
    "tags": []
   },
   "source": [
    "### Target\n",
    "\n",
    "- **Survived** (*int*): wheter the passenger survived or not --> 0 = No, 1 = Yes.\n",
    "\n",
    "### Features\n",
    "\n",
    "- **Pclass** (*int*): ticket class --> 1 = first class, 2 = second class, 3 = third class.\n",
    "\n",
    "- **Name** (*str*) (**NOT USED**).\n",
    "\n",
    "- **Sex** (*str*): male or female.\n",
    "\n",
    "- **Age** (*float*): age in years (fractional if less than 1; if the age is estimated, it is in the form of xx.5).\n",
    "\n",
    "- **SibSp** (*int*): number of siblings and spouse that travelled with the passenger.\n",
    "\n",
    "- **Parch** (*int*): number of childs and parents that travelled with the passenger.\n",
    "\n",
    "- **Ticket** (*str*): ticket number (**NOT USED**).\n",
    "\n",
    "- **Fare** (*float*): passenger fare.\n",
    "\n",
    "- **Cabin** (*str*): cabin number (**NOT USED**).\n",
    "\n",
    "- **Embarked** (*str*): port of embarkation --> C = Cherbourg, Q = Queenstown, S = Southampton."
   ]
  },
  {
   "cell_type": "code",
   "execution_count": 6,
   "metadata": {
    "execution": {
     "iopub.execute_input": "2021-02-14T20:13:57.085292Z",
     "iopub.status.busy": "2021-02-14T20:13:57.084514Z",
     "iopub.status.idle": "2021-02-14T20:13:57.089399Z",
     "shell.execute_reply": "2021-02-14T20:13:57.088806Z"
    },
    "papermill": {
     "duration": 0.032101,
     "end_time": "2021-02-14T20:13:57.089536",
     "exception": false,
     "start_time": "2021-02-14T20:13:57.057435",
     "status": "completed"
    },
    "tags": []
   },
   "outputs": [],
   "source": [
    "target = 'Survived'"
   ]
  },
  {
   "cell_type": "code",
   "execution_count": 7,
   "metadata": {
    "execution": {
     "iopub.execute_input": "2021-02-14T20:13:57.154353Z",
     "iopub.status.busy": "2021-02-14T20:13:57.153415Z",
     "iopub.status.idle": "2021-02-14T20:13:57.157339Z",
     "shell.execute_reply": "2021-02-14T20:13:57.156435Z"
    },
    "papermill": {
     "duration": 0.04502,
     "end_time": "2021-02-14T20:13:57.157469",
     "exception": false,
     "start_time": "2021-02-14T20:13:57.112449",
     "status": "completed"
    },
    "tags": []
   },
   "outputs": [],
   "source": [
    "# Drop the Ticket, Cabin and Name columns\n",
    "train = train.drop(['Ticket', 'Cabin', 'Name'], axis=1)\n",
    "test  = test.drop(['Ticket', 'Cabin', 'Name'], axis=1)\n",
    "\n",
    "# Set target column as the last column\n",
    "train = pd.concat([train.loc[:, train.columns != target], train[target]], axis=1)"
   ]
  },
  {
   "cell_type": "code",
   "execution_count": 8,
   "metadata": {
    "execution": {
     "iopub.execute_input": "2021-02-14T20:13:57.207728Z",
     "iopub.status.busy": "2021-02-14T20:13:57.206961Z",
     "iopub.status.idle": "2021-02-14T20:13:57.215311Z",
     "shell.execute_reply": "2021-02-14T20:13:57.214557Z"
    },
    "papermill": {
     "duration": 0.03487,
     "end_time": "2021-02-14T20:13:57.215436",
     "exception": false,
     "start_time": "2021-02-14T20:13:57.180566",
     "status": "completed"
    },
    "tags": []
   },
   "outputs": [
    {
     "name": "stdout",
     "output_type": "stream",
     "text": [
      "- Number of rows (train) = 891\n",
      "- Number of rows (test) = 418\n",
      "- Number of used features = 7 --> ['Pclass', 'Sex', 'Age', 'SibSp', 'Parch', 'Fare', 'Embarked']\n"
     ]
    }
   ],
   "source": [
    "features = list(test.columns)\n",
    "\n",
    "print(f'- Number of rows (train) = {len(train)}')\n",
    "print(f'- Number of rows (test) = {len(test)}')\n",
    "print(f'- Number of used features = {len(features)} --> {features}')"
   ]
  },
  {
   "cell_type": "markdown",
   "metadata": {
    "papermill": {
     "duration": 0.023646,
     "end_time": "2021-02-14T20:13:57.262770",
     "exception": false,
     "start_time": "2021-02-14T20:13:57.239124",
     "status": "completed"
    },
    "tags": []
   },
   "source": [
    "## 2. Visualizations"
   ]
  },
  {
   "cell_type": "code",
   "execution_count": 9,
   "metadata": {
    "execution": {
     "iopub.execute_input": "2021-02-14T20:13:57.320229Z",
     "iopub.status.busy": "2021-02-14T20:13:57.319175Z",
     "iopub.status.idle": "2021-02-14T20:13:57.322535Z",
     "shell.execute_reply": "2021-02-14T20:13:57.323088Z"
    },
    "papermill": {
     "duration": 0.036078,
     "end_time": "2021-02-14T20:13:57.323243",
     "exception": false,
     "start_time": "2021-02-14T20:13:57.287165",
     "status": "completed"
    },
    "tags": []
   },
   "outputs": [],
   "source": [
    "def annotate_barplot_with_percentages(ax, fontsize=12):\n",
    "    \"\"\"Function to annotate barplots with percentages.\"\"\"\n",
    "\n",
    "    for p in ax.patches:\n",
    "        percentage = '{:.1f}%'.format(100 * p.get_height() / len(train))\n",
    "        x = p.get_x() + p.get_width() / 2\n",
    "        y = p.get_height() / 2\n",
    "        ax.annotate(percentage, (x, y), ha='center', fontsize=fontsize, fontweight='bold')"
   ]
  },
  {
   "cell_type": "markdown",
   "metadata": {
    "papermill": {
     "duration": 0.057185,
     "end_time": "2021-02-14T20:13:57.408328",
     "exception": false,
     "start_time": "2021-02-14T20:13:57.351143",
     "status": "completed"
    },
    "tags": []
   },
   "source": [
    "### Simple plots"
   ]
  },
  {
   "cell_type": "code",
   "execution_count": 10,
   "metadata": {
    "execution": {
     "iopub.execute_input": "2021-02-14T20:13:57.479150Z",
     "iopub.status.busy": "2021-02-14T20:13:57.478349Z",
     "iopub.status.idle": "2021-02-14T20:13:59.009375Z",
     "shell.execute_reply": "2021-02-14T20:13:59.007097Z"
    },
    "papermill": {
     "duration": 1.575249,
     "end_time": "2021-02-14T20:13:59.009528",
     "exception": false,
     "start_time": "2021-02-14T20:13:57.434279",
     "status": "completed"
    },
    "tags": []
   },
   "outputs": [
    {
     "data": {
      "image/png": "[encoded data removed]",
      "text/plain": [
       "<Figure size 1152x720 with 6 Axes>"
      ]
     },
     "metadata": {},
     "output_type": "display_data"
    }
   ],
   "source": [
    "f, axes = plt.subplots(2, 3, figsize=(16, 10))\n",
    "# Survivors plot\n",
    "ax_1 = sns.countplot(x=target, data=train, palette='Blues', ax=axes[0, 0])\n",
    "ax_1.set_title('Survival', fontsize=14, fontweight='bold')\n",
    "ax_1.set_xticklabels(['No', 'Yes'])\n",
    "annotate_barplot_with_percentages(ax_1)\n",
    "# Pclass plot\n",
    "ax_2 = sns.countplot(x='Pclass', data=train, palette='Blues', ax=axes[0, 1])\n",
    "ax_2.set_title('Pclass', fontsize=14, fontweight='bold')\n",
    "annotate_barplot_with_percentages(ax_2)\n",
    "# Sex plot\n",
    "ax_3 = sns.countplot(x='Sex', data=train, palette='Blues', ax=axes[0, 2])\n",
    "ax_3.set_title('Sex', fontsize=14, fontweight='bold')\n",
    "annotate_barplot_with_percentages(ax_3)\n",
    "# Age distribution plot\n",
    "bin_size = 10\n",
    "ax_4 = sns.distplot(train['Age'], bins=int(train['Age'].max() / bin_size), ax=axes[1, 0])\n",
    "ax_4.set_title('Age distribution', fontsize=14, fontweight='bold')\n",
    "# Fare distribution plot\n",
    "bin_size = 10\n",
    "ax_5 = sns.distplot(train['Fare'], bins=int(train['Fare'].max() / bin_size), ax=axes[1, 1])\n",
    "ax_5.set_title('Fare distribution', fontsize=14, fontweight='bold')\n",
    "# Embarked plot\n",
    "ax_6 = sns.countplot(x='Embarked', data=train, palette='Blues', ax=axes[1, 2])\n",
    "ax_6.set_title('Embarked', fontsize=14, fontweight='bold')\n",
    "annotate_barplot_with_percentages(ax_6)\n",
    "plt.show()"
   ]
  },
  {
   "cell_type": "markdown",
   "metadata": {
    "papermill": {
     "duration": 0.027448,
     "end_time": "2021-02-14T20:13:59.063715",
     "exception": false,
     "start_time": "2021-02-14T20:13:59.036267",
     "status": "completed"
    },
    "tags": []
   },
   "source": [
    "### Survival plots"
   ]
  },
  {
   "cell_type": "code",
   "execution_count": 11,
   "metadata": {
    "execution": {
     "iopub.execute_input": "2021-02-14T20:13:59.144655Z",
     "iopub.status.busy": "2021-02-14T20:13:59.134070Z",
     "iopub.status.idle": "2021-02-14T20:13:59.709216Z",
     "shell.execute_reply": "2021-02-14T20:13:59.710122Z"
    },
    "papermill": {
     "duration": 0.617303,
     "end_time": "2021-02-14T20:13:59.710295",
     "exception": false,
     "start_time": "2021-02-14T20:13:59.092992",
     "status": "completed"
    },
    "tags": []
   },
   "outputs": [
    {
     "data": {
      "image/png": "[encoded data removed]",
      "text/plain": [
       "<Figure size 1152x360 with 3 Axes>"
      ]
     },
     "metadata": {},
     "output_type": "display_data"
    }
   ],
   "source": [
    "f, axes = plt.subplots(1, 3, figsize=(16, 5))\n",
    "# Sex hue plot\n",
    "ax_1 = sns.countplot(x=target, data=train, hue='Sex', palette='Blues', ax=axes[0])\n",
    "ax_1.set_title('Survival by Sex', fontsize=14, fontweight='bold')\n",
    "ax_1.set_xticklabels(['No', 'Yes'])\n",
    "annotate_barplot_with_percentages(ax_1, fontsize=10)\n",
    "# Pclass hue plot\n",
    "ax_2 = sns.countplot(x=target, data=train, hue='Pclass', palette='Blues', ax=axes[1])\n",
    "ax_2.set_title('Survival by Pclass', fontsize=14, fontweight='bold')\n",
    "ax_2.set_xticklabels(['No', 'Yes'])\n",
    "annotate_barplot_with_percentages(ax_2, fontsize=10)\n",
    "# Embarked hue plot\n",
    "ax_3 = sns.countplot(x=target, data=train, hue='Embarked', palette='Blues', ax=axes[2])\n",
    "ax_3.set_title('Survival by Embarked', fontsize=14, fontweight='bold')\n",
    "ax_3.set_xticklabels(['No', 'Yes'])\n",
    "annotate_barplot_with_percentages(ax_3, fontsize=10)\n",
    "plt.show()"
   ]
  },
  {
   "cell_type": "markdown",
   "metadata": {
    "papermill": {
     "duration": 0.027784,
     "end_time": "2021-02-14T20:13:59.766392",
     "exception": false,
     "start_time": "2021-02-14T20:13:59.738608",
     "status": "completed"
    },
    "tags": []
   },
   "source": [
    "## 3. Missing data"
   ]
  },
  {
   "cell_type": "code",
   "execution_count": 12,
   "metadata": {
    "execution": {
     "iopub.execute_input": "2021-02-14T20:13:59.835413Z",
     "iopub.status.busy": "2021-02-14T20:13:59.834117Z",
     "iopub.status.idle": "2021-02-14T20:13:59.848963Z",
     "shell.execute_reply": "2021-02-14T20:13:59.847532Z"
    },
    "papermill": {
     "duration": 0.054612,
     "end_time": "2021-02-14T20:13:59.849156",
     "exception": false,
     "start_time": "2021-02-14T20:13:59.794544",
     "status": "completed"
    },
    "tags": []
   },
   "outputs": [
    {
     "name": "stdout",
     "output_type": "stream",
     "text": [
      "===== TRAIN =====\n",
      "- Age --> 177 (19.87 %)\n",
      "- Embarked --> 2 (0.22 %)\n",
      "\n",
      "===== TEST =====\n",
      "- Age --> 86 (20.57 %)\n",
      "- Fare --> 1 (0.24 %)\n"
     ]
    }
   ],
   "source": [
    "# Identify features with missing values (NaN)\n",
    "\n",
    "print('===== TRAIN =====')\n",
    "for feature_with_nans in train.loc[:, train.isna().sum() > 0]:\n",
    "    number_of_nans = train[feature_with_nans].isna().sum()\n",
    "    print(f'- {feature_with_nans} --> {number_of_nans} ({round(100 * number_of_nans / len(train), 2)} %)')\n",
    "\n",
    "print('\\n===== TEST =====')\n",
    "for feature_with_nans in test.loc[:, test.isna().sum() > 0]:\n",
    "    number_of_nans = test[feature_with_nans].isna().sum()\n",
    "    print(f'- {feature_with_nans} --> {number_of_nans} ({round(100 * number_of_nans / len(test), 2)} %)')"
   ]
  },
  {
   "cell_type": "code",
   "execution_count": 13,
   "metadata": {
    "execution": {
     "iopub.execute_input": "2021-02-14T20:13:59.925178Z",
     "iopub.status.busy": "2021-02-14T20:13:59.924410Z",
     "iopub.status.idle": "2021-02-14T20:13:59.928245Z",
     "shell.execute_reply": "2021-02-14T20:13:59.927522Z"
    },
    "papermill": {
     "duration": 0.050351,
     "end_time": "2021-02-14T20:13:59.928371",
     "exception": false,
     "start_time": "2021-02-14T20:13:59.878020",
     "status": "completed"
    },
    "tags": []
   },
   "outputs": [],
   "source": [
    "# Impute Age and Fare features with their mean value\n",
    "simple_imputer = SimpleImputer(strategy='mean')\n",
    "\n",
    "train['Age'] = simple_imputer.fit_transform(train['Age'].values.reshape(-1, 1))\n",
    "test['Age']  = simple_imputer.transform(test['Age'].values.reshape(-1, 1))\n",
    "\n",
    "simple_imputer.fit(train['Fare'].values.reshape(-1, 1))\n",
    "test['Fare']  = simple_imputer.transform(test['Fare'].values.reshape(-1, 1))\n",
    "\n",
    "# Impute Embarked feature with the most frequent value\n",
    "simple_imputer    = SimpleImputer(strategy='most_frequent')\n",
    "train['Embarked'] = simple_imputer.fit_transform(train['Embarked'].values.reshape(-1, 1))"
   ]
  },
  {
   "cell_type": "code",
   "execution_count": 14,
   "metadata": {
    "execution": {
     "iopub.execute_input": "2021-02-14T20:13:59.995743Z",
     "iopub.status.busy": "2021-02-14T20:13:59.994995Z",
     "iopub.status.idle": "2021-02-14T20:14:00.001261Z",
     "shell.execute_reply": "2021-02-14T20:14:00.000530Z"
    },
    "papermill": {
     "duration": 0.044241,
     "end_time": "2021-02-14T20:14:00.001394",
     "exception": false,
     "start_time": "2021-02-14T20:13:59.957153",
     "status": "completed"
    },
    "tags": []
   },
   "outputs": [
    {
     "name": "stdout",
     "output_type": "stream",
     "text": [
      "Great! Now there are no missing values.\n"
     ]
    }
   ],
   "source": [
    "# Check that there are no more missing values\n",
    "if (train.isna().sum().sum() == 0) and (test.isna().sum().sum() == 0):\n",
    "    print('Great! Now there are no missing values.')\n",
    "else:\n",
    "    print('Ooops! There are still some missing values.')"
   ]
  },
  {
   "cell_type": "markdown",
   "metadata": {
    "papermill": {
     "duration": 0.030694,
     "end_time": "2021-02-14T20:14:00.063250",
     "exception": false,
     "start_time": "2021-02-14T20:14:00.032556",
     "status": "completed"
    },
    "tags": []
   },
   "source": [
    "## 4. Categorical features"
   ]
  },
  {
   "cell_type": "code",
   "execution_count": 15,
   "metadata": {
    "execution": {
     "iopub.execute_input": "2021-02-14T20:14:00.132073Z",
     "iopub.status.busy": "2021-02-14T20:14:00.131389Z",
     "iopub.status.idle": "2021-02-14T20:14:00.135791Z",
     "shell.execute_reply": "2021-02-14T20:14:00.134853Z"
    },
    "papermill": {
     "duration": 0.043476,
     "end_time": "2021-02-14T20:14:00.135921",
     "exception": false,
     "start_time": "2021-02-14T20:14:00.092445",
     "status": "completed"
    },
    "tags": []
   },
   "outputs": [],
   "source": [
    "label_encoder = preprocessing.LabelEncoder()\n",
    "\n",
    "train['Sex'] = label_encoder.fit_transform(train['Sex'])\n",
    "test['Sex']  = label_encoder.transform(test['Sex'])\n",
    "\n",
    "train['Embarked'] = label_encoder.fit_transform(train['Embarked'])\n",
    "test['Embarked']  = label_encoder.transform(test['Embarked'])"
   ]
  },
  {
   "cell_type": "markdown",
   "metadata": {
    "papermill": {
     "duration": 0.029736,
     "end_time": "2021-02-14T20:14:00.194600",
     "exception": false,
     "start_time": "2021-02-14T20:14:00.164864",
     "status": "completed"
    },
    "tags": []
   },
   "source": [
    "## 5. Creating/modifying features"
   ]
  },
  {
   "cell_type": "code",
   "execution_count": 16,
   "metadata": {
    "execution": {
     "iopub.execute_input": "2021-02-14T20:14:00.269778Z",
     "iopub.status.busy": "2021-02-14T20:14:00.269081Z",
     "iopub.status.idle": "2021-02-14T20:14:00.273175Z",
     "shell.execute_reply": "2021-02-14T20:14:00.272561Z"
    },
    "papermill": {
     "duration": 0.049614,
     "end_time": "2021-02-14T20:14:00.273302",
     "exception": false,
     "start_time": "2021-02-14T20:14:00.223688",
     "status": "completed"
    },
    "tags": []
   },
   "outputs": [],
   "source": [
    "# Create a feature using SibSp and Parch that indicates if the person was travelling with any relative\n",
    "train['WithFamily'] = (train['SibSp'] + train['Parch'] > 0).astype(int)\n",
    "test['WithFamily']  = (test['SibSp'] + test['Parch'] > 0).astype(int)\n",
    "\n",
    "train = train.drop(['SibSp', 'Parch'], axis=1)\n",
    "test  = test.drop(['SibSp', 'Parch'], axis=1)\n",
    "\n",
    "# Set target column as the last column\n",
    "train = pd.concat([train.loc[:, train.columns != target], train[target]], axis=1)"
   ]
  },
  {
   "cell_type": "code",
   "execution_count": 17,
   "metadata": {
    "execution": {
     "iopub.execute_input": "2021-02-14T20:14:00.340349Z",
     "iopub.status.busy": "2021-02-14T20:14:00.339250Z",
     "iopub.status.idle": "2021-02-14T20:14:00.342472Z",
     "shell.execute_reply": "2021-02-14T20:14:00.341906Z"
    },
    "papermill": {
     "duration": 0.040496,
     "end_time": "2021-02-14T20:14:00.342596",
     "exception": false,
     "start_time": "2021-02-14T20:14:00.302100",
     "status": "completed"
    },
    "tags": []
   },
   "outputs": [],
   "source": [
    "def categorize_age(age):\n",
    "    \"\"\"Function to categorize the age.\"\"\"\n",
    "\n",
    "    if age < 10:\n",
    "        category = 1\n",
    "    elif age < 20:\n",
    "        category = 2\n",
    "    elif age < 30:\n",
    "        category = 3\n",
    "    elif age < 40:\n",
    "        category = 4\n",
    "    elif age < 50:\n",
    "        category = 5\n",
    "    elif age < 60:\n",
    "        category = 6\n",
    "    elif age < 70:\n",
    "        category = 7\n",
    "    elif age < 80:\n",
    "        category = 8\n",
    "    else:\n",
    "        category = 9\n",
    "\n",
    "    return category"
   ]
  },
  {
   "cell_type": "code",
   "execution_count": 18,
   "metadata": {
    "execution": {
     "iopub.execute_input": "2021-02-14T20:14:00.408189Z",
     "iopub.status.busy": "2021-02-14T20:14:00.407427Z",
     "iopub.status.idle": "2021-02-14T20:14:00.411339Z",
     "shell.execute_reply": "2021-02-14T20:14:00.410757Z"
    },
    "papermill": {
     "duration": 0.039859,
     "end_time": "2021-02-14T20:14:00.411475",
     "exception": false,
     "start_time": "2021-02-14T20:14:00.371616",
     "status": "completed"
    },
    "tags": []
   },
   "outputs": [],
   "source": [
    "# Categorize the Age feature in decades (0-10 -> 1, 10-20 -> 2, ...)\n",
    "train['Age'] = train['Age'].apply(categorize_age)"
   ]
  },
  {
   "cell_type": "code",
   "execution_count": 19,
   "metadata": {
    "execution": {
     "iopub.execute_input": "2021-02-14T20:14:00.480998Z",
     "iopub.status.busy": "2021-02-14T20:14:00.480280Z",
     "iopub.status.idle": "2021-02-14T20:14:00.482779Z",
     "shell.execute_reply": "2021-02-14T20:14:00.483259Z"
    },
    "papermill": {
     "duration": 0.041924,
     "end_time": "2021-02-14T20:14:00.483414",
     "exception": false,
     "start_time": "2021-02-14T20:14:00.441490",
     "status": "completed"
    },
    "tags": []
   },
   "outputs": [],
   "source": [
    "def categorize_fare(fare):\n",
    "    \"\"\"Function to categorize the fare.\"\"\"\n",
    "\n",
    "    if fare < 10:\n",
    "        category = 1\n",
    "    elif fare < 20:\n",
    "        category = 2\n",
    "    elif fare < 30:\n",
    "        category = 3\n",
    "    elif fare < 40:\n",
    "        category = 4\n",
    "    elif fare < 50:\n",
    "        category = 5\n",
    "    elif fare < 60:\n",
    "        category = 6\n",
    "    elif fare < 70:\n",
    "        category = 7\n",
    "    elif fare < 80:\n",
    "        category = 8\n",
    "    elif fare < 90:\n",
    "        category = 9\n",
    "    else:\n",
    "        category = 10\n",
    "\n",
    "    return category"
   ]
  },
  {
   "cell_type": "code",
   "execution_count": 20,
   "metadata": {
    "execution": {
     "iopub.execute_input": "2021-02-14T20:14:00.545936Z",
     "iopub.status.busy": "2021-02-14T20:14:00.545288Z",
     "iopub.status.idle": "2021-02-14T20:14:00.551541Z",
     "shell.execute_reply": "2021-02-14T20:14:00.552437Z"
    },
    "papermill": {
     "duration": 0.039627,
     "end_time": "2021-02-14T20:14:00.552607",
     "exception": false,
     "start_time": "2021-02-14T20:14:00.512980",
     "status": "completed"
    },
    "tags": []
   },
   "outputs": [],
   "source": [
    "# Categorize the Fare feature\n",
    "train['Fare'] = train['Fare'].apply(categorize_fare)"
   ]
  },
  {
   "cell_type": "markdown",
   "metadata": {
    "papermill": {
     "duration": 0.029168,
     "end_time": "2021-02-14T20:14:00.611561",
     "exception": false,
     "start_time": "2021-02-14T20:14:00.582393",
     "status": "completed"
    },
    "tags": []
   },
   "source": [
    "## 6. Models and predictions"
   ]
  },
  {
   "cell_type": "code",
   "execution_count": 21,
   "metadata": {
    "execution": {
     "iopub.execute_input": "2021-02-14T20:14:00.675634Z",
     "iopub.status.busy": "2021-02-14T20:14:00.674823Z",
     "iopub.status.idle": "2021-02-14T20:14:00.681484Z",
     "shell.execute_reply": "2021-02-14T20:14:00.682075Z"
    },
    "papermill": {
     "duration": 0.04057,
     "end_time": "2021-02-14T20:14:00.682247",
     "exception": false,
     "start_time": "2021-02-14T20:14:00.641677",
     "status": "completed"
    },
    "tags": []
   },
   "outputs": [],
   "source": [
    "X_train = train.loc[:, train.columns != target]\n",
    "y_train = train[target]\n",
    "\n",
    "X_test = test"
   ]
  },
  {
   "cell_type": "markdown",
   "metadata": {
    "papermill": {
     "duration": 0.031409,
     "end_time": "2021-02-14T20:14:00.743348",
     "exception": false,
     "start_time": "2021-02-14T20:14:00.711939",
     "status": "completed"
    },
    "tags": []
   },
   "source": [
    "### Random Forest Classifier"
   ]
  },
  {
   "cell_type": "code",
   "execution_count": 22,
   "metadata": {
    "execution": {
     "iopub.execute_input": "2021-02-14T20:14:00.813967Z",
     "iopub.status.busy": "2021-02-14T20:14:00.812915Z",
     "iopub.status.idle": "2021-02-14T20:14:02.406849Z",
     "shell.execute_reply": "2021-02-14T20:14:02.407415Z"
    },
    "papermill": {
     "duration": 1.634344,
     "end_time": "2021-02-14T20:14:02.407584",
     "exception": false,
     "start_time": "2021-02-14T20:14:00.773240",
     "status": "completed"
    },
    "tags": []
   },
   "outputs": [
    {
     "name": "stdout",
     "output_type": "stream",
     "text": [
      "Accuracy with RandomForestClassifier (train) = 0.8125855250768941\n"
     ]
    }
   ],
   "source": [
    "rf_classifier = RandomForestClassifier(n_estimators=100, criterion='entropy', random_state=0)\n",
    "rf_classifier.fit(X_train, y_train)\n",
    "train_pred = rf_classifier.predict(X_train)\n",
    "train_cv_accuracy = cross_val_score(rf_classifier, X_train, y_train, scoring='accuracy', cv=5).mean()\n",
    "print(f'Accuracy with RandomForestClassifier (train) = {train_cv_accuracy}')"
   ]
  },
  {
   "cell_type": "markdown",
   "metadata": {
    "papermill": {
     "duration": 0.029824,
     "end_time": "2021-02-14T20:14:02.469656",
     "exception": false,
     "start_time": "2021-02-14T20:14:02.439832",
     "status": "completed"
    },
    "tags": []
   },
   "source": [
    "## 7. Submit results"
   ]
  },
  {
   "cell_type": "code",
   "execution_count": 23,
   "metadata": {
    "execution": {
     "iopub.execute_input": "2021-02-14T20:14:02.539526Z",
     "iopub.status.busy": "2021-02-14T20:14:02.538767Z",
     "iopub.status.idle": "2021-02-14T20:14:02.556545Z",
     "shell.execute_reply": "2021-02-14T20:14:02.557025Z"
    },
    "papermill": {
     "duration": 0.057123,
     "end_time": "2021-02-14T20:14:02.557206",
     "exception": false,
     "start_time": "2021-02-14T20:14:02.500083",
     "status": "completed"
    },
    "tags": []
   },
   "outputs": [],
   "source": [
    "test_pred = rf_classifier.predict(X_test)"
   ]
  },
  {
   "cell_type": "code",
   "execution_count": 24,
   "metadata": {
    "execution": {
     "iopub.execute_input": "2021-02-14T20:14:02.625431Z",
     "iopub.status.busy": "2021-02-14T20:14:02.624636Z",
     "iopub.status.idle": "2021-02-14T20:14:02.966894Z",
     "shell.execute_reply": "2021-02-14T20:14:02.966143Z"
    },
    "papermill": {
     "duration": 0.379307,
     "end_time": "2021-02-14T20:14:02.967033",
     "exception": false,
     "start_time": "2021-02-14T20:14:02.587726",
     "status": "completed"
    },
    "tags": []
   },
   "outputs": [],
   "source": [
    "output_df = pd.DataFrame({'PassengerId': test.index, 'Survived': test_pred})\n",
    "output_df.to_csv('rfc_2.csv', index=False)"
   ]
  }
 ],
 "metadata": {
  "kernelspec": {
   "display_name": "Python 3",
   "language": "python",
   "name": "python3"
  },
  "language_info": {
   "codemirror_mode": {
    "name": "ipython",
    "version": 3
   },
   "file_extension": ".py",
   "mimetype": "text/x-python",
   "name": "python",
   "nbconvert_exporter": "python",
   "pygments_lexer": "ipython3",
   "version": "3.8.1"
  },
  "papermill": {
   "duration": 15.32887,
   "end_time": "2021-02-14T20:14:04.044611",
   "environment_variables": {},
   "exception": null,
   "input_path": "__notebook__.ipynb",
   "output_path": "__notebook__.ipynb",
   "parameters": {},
   "start_time": "2021-02-14T20:13:48.715741",
   "version": "2.1.0"
  }
 },
 "nbformat": 4,
 "nbformat_minor": 4
}
